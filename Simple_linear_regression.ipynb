{
  "nbformat": 4,
  "nbformat_minor": 0,
  "metadata": {
    "colab": {
      "name": "Simple_linear_regression.ipynb",
      "provenance": [],
      "include_colab_link": true
    },
    "kernelspec": {
      "name": "python3",
      "display_name": "Python 3"
    },
    "language_info": {
      "name": "python"
    }
  },
  "cells": [
    {
      "cell_type": "markdown",
      "metadata": {
        "id": "view-in-github",
        "colab_type": "text"
      },
      "source": [
        "<a href=\"https://colab.research.google.com/github/PDSahana/simple-linear-regression/blob/main/Simple_linear_regression.ipynb\" target=\"_parent\"><img src=\"https://colab.research.google.com/assets/colab-badge.svg\" alt=\"Open In Colab\"/></a>"
      ]
    },
    {
      "cell_type": "markdown",
      "metadata": {
        "id": "62JrmU7LNJ9-"
      },
      "source": [
        "Example for Simple Linear Regression"
      ]
    },
    {
      "cell_type": "markdown",
      "metadata": {
        "id": "1Egdmi4nFC0f"
      },
      "source": [
        ""
      ]
    },
    {
      "cell_type": "code",
      "metadata": {
        "colab": {
          "base_uri": "https://localhost:8080/",
          "height": 328
        },
        "id": "-ClVOF9JNQkO",
        "outputId": "ae674cb7-7fc7-45cf-8167-113a408cc965"
      },
      "source": [
        "#import numpy as np\n",
        "import pandas as pd\n",
        "import seaborn as sns\n",
        "import matplotlib.pyplot as plt\n",
        "df=pd.read_csv('/content/exp1.csv')\n",
        "df"
      ],
      "execution_count": null,
      "outputs": [
        {
          "output_type": "execute_result",
          "data": {
            "text/html": [
              "<div>\n",
              "<style scoped>\n",
              "    .dataframe tbody tr th:only-of-type {\n",
              "        vertical-align: middle;\n",
              "    }\n",
              "\n",
              "    .dataframe tbody tr th {\n",
              "        vertical-align: top;\n",
              "    }\n",
              "\n",
              "    .dataframe thead th {\n",
              "        text-align: right;\n",
              "    }\n",
              "</style>\n",
              "<table border=\"1\" class=\"dataframe\">\n",
              "  <thead>\n",
              "    <tr style=\"text-align: right;\">\n",
              "      <th></th>\n",
              "      <th>Exp</th>\n",
              "      <th>Salary</th>\n",
              "    </tr>\n",
              "  </thead>\n",
              "  <tbody>\n",
              "    <tr>\n",
              "      <th>0</th>\n",
              "      <td>1.1</td>\n",
              "      <td>1000</td>\n",
              "    </tr>\n",
              "    <tr>\n",
              "      <th>1</th>\n",
              "      <td>1.5</td>\n",
              "      <td>1200</td>\n",
              "    </tr>\n",
              "    <tr>\n",
              "      <th>2</th>\n",
              "      <td>2.0</td>\n",
              "      <td>1500</td>\n",
              "    </tr>\n",
              "    <tr>\n",
              "      <th>3</th>\n",
              "      <td>2.1</td>\n",
              "      <td>1500</td>\n",
              "    </tr>\n",
              "    <tr>\n",
              "      <th>4</th>\n",
              "      <td>2.5</td>\n",
              "      <td>1650</td>\n",
              "    </tr>\n",
              "    <tr>\n",
              "      <th>5</th>\n",
              "      <td>2.6</td>\n",
              "      <td>1700</td>\n",
              "    </tr>\n",
              "    <tr>\n",
              "      <th>6</th>\n",
              "      <td>3.1</td>\n",
              "      <td>1850</td>\n",
              "    </tr>\n",
              "    <tr>\n",
              "      <th>7</th>\n",
              "      <td>4.5</td>\n",
              "      <td>2200</td>\n",
              "    </tr>\n",
              "    <tr>\n",
              "      <th>8</th>\n",
              "      <td>5.0</td>\n",
              "      <td>2500</td>\n",
              "    </tr>\n",
              "  </tbody>\n",
              "</table>\n",
              "</div>"
            ],
            "text/plain": [
              "   Exp  Salary\n",
              "0  1.1    1000\n",
              "1  1.5    1200\n",
              "2  2.0    1500\n",
              "3  2.1    1500\n",
              "4  2.5    1650\n",
              "5  2.6    1700\n",
              "6  3.1    1850\n",
              "7  4.5    2200\n",
              "8  5.0    2500"
            ]
          },
          "metadata": {
            "tags": []
          },
          "execution_count": 6
        }
      ]
    },
    {
      "cell_type": "code",
      "metadata": {
        "colab": {
          "base_uri": "https://localhost:8080/",
          "height": 297
        },
        "id": "bY4YEfNrN6bz",
        "outputId": "d9b4ac3d-012a-46ee-c682-7ea6dde91a34"
      },
      "source": [
        "df.describe()"
      ],
      "execution_count": null,
      "outputs": [
        {
          "output_type": "execute_result",
          "data": {
            "text/html": [
              "<div>\n",
              "<style scoped>\n",
              "    .dataframe tbody tr th:only-of-type {\n",
              "        vertical-align: middle;\n",
              "    }\n",
              "\n",
              "    .dataframe tbody tr th {\n",
              "        vertical-align: top;\n",
              "    }\n",
              "\n",
              "    .dataframe thead th {\n",
              "        text-align: right;\n",
              "    }\n",
              "</style>\n",
              "<table border=\"1\" class=\"dataframe\">\n",
              "  <thead>\n",
              "    <tr style=\"text-align: right;\">\n",
              "      <th></th>\n",
              "      <th>Exp</th>\n",
              "      <th>Salary</th>\n",
              "    </tr>\n",
              "  </thead>\n",
              "  <tbody>\n",
              "    <tr>\n",
              "      <th>count</th>\n",
              "      <td>9.000000</td>\n",
              "      <td>9.000000</td>\n",
              "    </tr>\n",
              "    <tr>\n",
              "      <th>mean</th>\n",
              "      <td>2.711111</td>\n",
              "      <td>1677.777778</td>\n",
              "    </tr>\n",
              "    <tr>\n",
              "      <th>std</th>\n",
              "      <td>1.303308</td>\n",
              "      <td>465.101542</td>\n",
              "    </tr>\n",
              "    <tr>\n",
              "      <th>min</th>\n",
              "      <td>1.100000</td>\n",
              "      <td>1000.000000</td>\n",
              "    </tr>\n",
              "    <tr>\n",
              "      <th>25%</th>\n",
              "      <td>2.000000</td>\n",
              "      <td>1500.000000</td>\n",
              "    </tr>\n",
              "    <tr>\n",
              "      <th>50%</th>\n",
              "      <td>2.500000</td>\n",
              "      <td>1650.000000</td>\n",
              "    </tr>\n",
              "    <tr>\n",
              "      <th>75%</th>\n",
              "      <td>3.100000</td>\n",
              "      <td>1850.000000</td>\n",
              "    </tr>\n",
              "    <tr>\n",
              "      <th>max</th>\n",
              "      <td>5.000000</td>\n",
              "      <td>2500.000000</td>\n",
              "    </tr>\n",
              "  </tbody>\n",
              "</table>\n",
              "</div>"
            ],
            "text/plain": [
              "            Exp       Salary\n",
              "count  9.000000     9.000000\n",
              "mean   2.711111  1677.777778\n",
              "std    1.303308   465.101542\n",
              "min    1.100000  1000.000000\n",
              "25%    2.000000  1500.000000\n",
              "50%    2.500000  1650.000000\n",
              "75%    3.100000  1850.000000\n",
              "max    5.000000  2500.000000"
            ]
          },
          "metadata": {
            "tags": []
          },
          "execution_count": 2
        }
      ]
    },
    {
      "cell_type": "code",
      "metadata": {
        "colab": {
          "base_uri": "https://localhost:8080/",
          "height": 282
        },
        "id": "xIE0ODIaOBMu",
        "outputId": "0cd04bb2-4c2e-4409-f2c5-89de145b390e"
      },
      "source": [
        "plt.scatter(df.Exp,df.Salary,color='red')"
      ],
      "execution_count": null,
      "outputs": [
        {
          "output_type": "execute_result",
          "data": {
            "text/plain": [
              "<matplotlib.collections.PathCollection at 0x7fe8cf84d4d0>"
            ]
          },
          "metadata": {
            "tags": []
          },
          "execution_count": 3
        },
        {
          "output_type": "display_data",
          "data": {
            "image/png": "[encoded data removed]",
            "text/plain": [
              "<Figure size 432x288 with 1 Axes>"
            ]
          },
          "metadata": {
            "tags": [],
            "needs_background": "light"
          }
        }
      ]
    },
    {
      "cell_type": "code",
      "metadata": {
        "colab": {
          "base_uri": "https://localhost:8080/",
          "height": 332
        },
        "id": "XgDvg0DMOLMn",
        "outputId": "f995c5fc-1ad0-4572-9bb2-70a70019922c"
      },
      "source": [
        "df.hist()"
      ],
      "execution_count": null,
      "outputs": [
        {
          "output_type": "execute_result",
          "data": {
            "text/plain": [
              "array([[<matplotlib.axes._subplots.AxesSubplot object at 0x7fe8cf73f890>,\n",
              "        <matplotlib.axes._subplots.AxesSubplot object at 0x7fe8cf26db50>]],\n",
              "      dtype=object)"
            ]
          },
          "metadata": {
            "tags": []
          },
          "execution_count": 4
        },
        {
          "output_type": "display_data",
          "data": {
            "image/png": "[encoded data removed]",
            "text/plain": [
              "<Figure size 432x288 with 2 Axes>"
            ]
          },
          "metadata": {
            "tags": [],
            "needs_background": "light"
          }
        }
      ]
    },
    {
      "cell_type": "code",
      "metadata": {
        "colab": {
          "base_uri": "https://localhost:8080/",
          "height": 111
        },
        "id": "YTlxxsEWOSp5",
        "outputId": "d494ae7a-083f-4055-d9af-d4ae3b95cb59"
      },
      "source": [
        "df.corr()"
      ],
      "execution_count": null,
      "outputs": [
        {
          "output_type": "execute_result",
          "data": {
            "text/html": [
              "<div>\n",
              "<style scoped>\n",
              "    .dataframe tbody tr th:only-of-type {\n",
              "        vertical-align: middle;\n",
              "    }\n",
              "\n",
              "    .dataframe tbody tr th {\n",
              "        vertical-align: top;\n",
              "    }\n",
              "\n",
              "    .dataframe thead th {\n",
              "        text-align: right;\n",
              "    }\n",
              "</style>\n",
              "<table border=\"1\" class=\"dataframe\">\n",
              "  <thead>\n",
              "    <tr style=\"text-align: right;\">\n",
              "      <th></th>\n",
              "      <th>Exp</th>\n",
              "      <th>Salary</th>\n",
              "    </tr>\n",
              "  </thead>\n",
              "  <tbody>\n",
              "    <tr>\n",
              "      <th>Exp</th>\n",
              "      <td>1.000000</td>\n",
              "      <td>0.988217</td>\n",
              "    </tr>\n",
              "    <tr>\n",
              "      <th>Salary</th>\n",
              "      <td>0.988217</td>\n",
              "      <td>1.000000</td>\n",
              "    </tr>\n",
              "  </tbody>\n",
              "</table>\n",
              "</div>"
            ],
            "text/plain": [
              "             Exp    Salary\n",
              "Exp     1.000000  0.988217\n",
              "Salary  0.988217  1.000000"
            ]
          },
          "metadata": {
            "tags": []
          },
          "execution_count": 5
        }
      ]
    },
    {
      "cell_type": "code",
      "metadata": {
        "colab": {
          "base_uri": "https://localhost:8080/",
          "height": 391
        },
        "id": "TVyYFLlZOdGM",
        "outputId": "069c18d2-82d3-42ea-81fe-ecab314ba36b"
      },
      "source": [
        "sns.pairplot(df)"
      ],
      "execution_count": null,
      "outputs": [
        {
          "output_type": "execute_result",
          "data": {
            "text/plain": [
              "<seaborn.axisgrid.PairGrid at 0x7fe8c0f09650>"
            ]
          },
          "metadata": {
            "tags": []
          },
          "execution_count": 7
        },
        {
          "output_type": "display_data",
          "data": {
            "image/png": "[encoded data removed]",
            "text/plain": [
              "<Figure size 360x360 with 6 Axes>"
            ]
          },
          "metadata": {
            "tags": [],
            "needs_background": "light"
          }
        }
      ]
    },
    {
      "cell_type": "code",
      "metadata": {
        "colab": {
          "base_uri": "https://localhost:8080/",
          "height": 80
        },
        "id": "PLwhu55NOsI1",
        "outputId": "956b660f-93e5-4b0f-a77a-09f84fe6a0b7"
      },
      "source": [
        "x=df.iloc[:,0:1]\n",
        "x.head(1)"
      ],
      "execution_count": null,
      "outputs": [
        {
          "output_type": "execute_result",
          "data": {
            "text/html": [
              "<div>\n",
              "<style scoped>\n",
              "    .dataframe tbody tr th:only-of-type {\n",
              "        vertical-align: middle;\n",
              "    }\n",
              "\n",
              "    .dataframe tbody tr th {\n",
              "        vertical-align: top;\n",
              "    }\n",
              "\n",
              "    .dataframe thead th {\n",
              "        text-align: right;\n",
              "    }\n",
              "</style>\n",
              "<table border=\"1\" class=\"dataframe\">\n",
              "  <thead>\n",
              "    <tr style=\"text-align: right;\">\n",
              "      <th></th>\n",
              "      <th>Exp</th>\n",
              "    </tr>\n",
              "  </thead>\n",
              "  <tbody>\n",
              "    <tr>\n",
              "      <th>0</th>\n",
              "      <td>1.1</td>\n",
              "    </tr>\n",
              "  </tbody>\n",
              "</table>\n",
              "</div>"
            ],
            "text/plain": [
              "   Exp\n",
              "0  1.1"
            ]
          },
          "metadata": {
            "tags": []
          },
          "execution_count": 8
        }
      ]
    },
    {
      "cell_type": "code",
      "metadata": {
        "colab": {
          "base_uri": "https://localhost:8080/",
          "height": 80
        },
        "id": "Wf1sLPiJOtvt",
        "outputId": "1a8be7f3-4d03-422f-d774-0d0b653291db"
      },
      "source": [
        "y=df.iloc[:,1:]\n",
        "y.head(1)"
      ],
      "execution_count": null,
      "outputs": [
        {
          "output_type": "execute_result",
          "data": {
            "text/html": [
              "<div>\n",
              "<style scoped>\n",
              "    .dataframe tbody tr th:only-of-type {\n",
              "        vertical-align: middle;\n",
              "    }\n",
              "\n",
              "    .dataframe tbody tr th {\n",
              "        vertical-align: top;\n",
              "    }\n",
              "\n",
              "    .dataframe thead th {\n",
              "        text-align: right;\n",
              "    }\n",
              "</style>\n",
              "<table border=\"1\" class=\"dataframe\">\n",
              "  <thead>\n",
              "    <tr style=\"text-align: right;\">\n",
              "      <th></th>\n",
              "      <th>Salary</th>\n",
              "    </tr>\n",
              "  </thead>\n",
              "  <tbody>\n",
              "    <tr>\n",
              "      <th>0</th>\n",
              "      <td>1000</td>\n",
              "    </tr>\n",
              "  </tbody>\n",
              "</table>\n",
              "</div>"
            ],
            "text/plain": [
              "   Salary\n",
              "0    1000"
            ]
          },
          "metadata": {
            "tags": []
          },
          "execution_count": 9
        }
      ]
    },
    {
      "cell_type": "code",
      "metadata": {
        "colab": {
          "base_uri": "https://localhost:8080/",
          "height": 295
        },
        "id": "oK_w0u6-OxFr",
        "outputId": "19f4ae8a-ff43-4018-a48c-664211022acb"
      },
      "source": [
        "plt.scatter(x, y)\n",
        "plt.title('Experience Vs Salary')\n",
        "plt.xlabel('Years of Experience')\n",
        "plt.ylabel('Salary')\n",
        "plt.show()"
      ],
      "execution_count": null,
      "outputs": [
        {
          "output_type": "display_data",
          "data": {
            "image/png": "[encoded data removed]",
            "text/plain": [
              "<Figure size 432x288 with 1 Axes>"
            ]
          },
          "metadata": {
            "tags": [],
            "needs_background": "light"
          }
        }
      ]
    },
    {
      "cell_type": "code",
      "metadata": {
        "colab": {
          "base_uri": "https://localhost:8080/"
        },
        "id": "S2ZPJU84O7Lj",
        "outputId": "dee6ad91-6186-4d6f-f061-64f7119d2ecc"
      },
      "source": [
        "from sklearn.linear_model import LinearRegression\n",
        "lin_reg=LinearRegression() #create a Regressor\n",
        "lin_reg.fit(x,y)"
      ],
      "execution_count": null,
      "outputs": [
        {
          "output_type": "execute_result",
          "data": {
            "text/plain": [
              "LinearRegression(copy_X=True, fit_intercept=True, n_jobs=None, normalize=False)"
            ]
          },
          "metadata": {
            "tags": []
          },
          "execution_count": 11
        }
      ]
    },
    {
      "cell_type": "code",
      "metadata": {
        "colab": {
          "base_uri": "https://localhost:8080/",
          "height": 312
        },
        "id": "KzHnTTzlPEtx",
        "outputId": "fc837ec1-33e1-47ab-fd2e-80fd3d4fa0e1"
      },
      "source": [
        "#visualise the model\n",
        "plt.scatter(x,y)\n",
        "plt.plot(x,lin_reg.predict(x),color='green')\n",
        "plt.title(\"Regression Model\")\n",
        "plt.xlabel(\"YOE\")\n",
        "plt.ylabel(\"Salary\")"
      ],
      "execution_count": null,
      "outputs": [
        {
          "output_type": "execute_result",
          "data": {
            "text/plain": [
              "Text(0, 0.5, 'Salary')"
            ]
          },
          "metadata": {
            "tags": []
          },
          "execution_count": 12
        },
        {
          "output_type": "display_data",
          "data": {
            "image/png": "[encoded data removed]",
            "text/plain": [
              "<Figure size 432x288 with 1 Axes>"
            ]
          },
          "metadata": {
            "tags": [],
            "needs_background": "light"
          }
        }
      ]
    },
    {
      "cell_type": "markdown",
      "metadata": {
        "id": "tnt85fNAzXd4"
      },
      "source": [
        "#Navie Bayes Classifier for Wine Dataset as it is multi-class classification"
      ]
    },
    {
      "cell_type": "code",
      "metadata": {
        "id": "KTiEQGBNza6k",
        "colab": {
          "base_uri": "https://localhost:8080/"
        },
        "outputId": "8fee9c1e-5994-4195-c7ac-b1626292e7cc"
      },
      "source": [
        "from sklearn import datasets\n",
        "#load dataset\n",
        "\n",
        "wine=datasets.load_wine()\n",
        "print(\"Features:\",wine.feature_names)\n",
        "print(\"Labels:\",wine.target_names)\n",
        "wine.data.shape\n",
        "\n",
        "from sklearn.model_selection import train_test_split\n",
        "X_train,X_test,Y_train,Y_test= train_test_split(wine.data,wine.target,test_size=0.3,random_state=109)\n",
        "#70% of my data is training and 30% of my data is testing.\n",
        "\n",
        "from sklearn.naive_bayes import GaussianNB\n",
        "#create a Gaussian Classifier\n",
        "gnb=GaussianNB()\n",
        "#Train the model using the training set\n",
        "gnb.fit(X_train,Y_train)\n",
        "\n",
        "#predict the model using testing values\n",
        "y_pred=gnb.predict(X_test)\n",
        "\n",
        "from sklearn import metrics\n",
        "print(\"Accuracy:\",metrics.accuracy_score(Y_test,y_pred))"
      ],
      "execution_count": null,
      "outputs": [
        {
          "output_type": "stream",
          "text": [
            "Features: ['alcohol', 'malic_acid', 'ash', 'alcalinity_of_ash', 'magnesium', 'total_phenols', 'flavanoids', 'nonflavanoid_phenols', 'proanthocyanins', 'color_intensity', 'hue', 'od280/od315_of_diluted_wines', 'proline']\n",
            "Labels: ['class_0' 'class_1' 'class_2']\n",
            "Accuracy: 0.9074074074074074\n"
          ],
          "name": "stdout"
        }
      ]
    },
    {
      "cell_type": "markdown",
      "metadata": {
        "id": "GJ4AtRvBwh9H"
      },
      "source": [
        "#Vader"
      ]
    },
    {
      "cell_type": "code",
      "metadata": {
        "colab": {
          "base_uri": "https://localhost:8080/"
        },
        "id": "XMwLQS8GyHBB",
        "outputId": "5bc28f37-795c-4ca0-91bc-edbb01ba292b"
      },
      "source": [
        "! pip install vaderSentiment"
      ],
      "execution_count": null,
      "outputs": [
        {
          "output_type": "stream",
          "text": [
            "Collecting vaderSentiment\n",
            "\u001b[?25l  Downloading https://files.pythonhosted.org/packages/76/fc/310e16254683c1ed35eeb97386986d6c00bc29df17ce280aed64d55537e9/vaderSentiment-3.3.2-py2.py3-none-any.whl (125kB)\n",
            "\u001b[K     |████████████████████████████████| 133kB 6.9MB/s \n",
            "\u001b[?25hRequirement already satisfied: requests in /usr/local/lib/python3.7/dist-packages (from vaderSentiment) (2.23.0)\n",
            "Requirement already satisfied: chardet<4,>=3.0.2 in /usr/local/lib/python3.7/dist-packages (from requests->vaderSentiment) (3.0.4)\n",
            "Requirement already satisfied: idna<3,>=2.5 in /usr/local/lib/python3.7/dist-packages (from requests->vaderSentiment) (2.10)\n",
            "Requirement already satisfied: urllib3!=1.25.0,!=1.25.1,<1.26,>=1.21.1 in /usr/local/lib/python3.7/dist-packages (from requests->vaderSentiment) (1.24.3)\n",
            "Requirement already satisfied: certifi>=2017.4.17 in /usr/local/lib/python3.7/dist-packages (from requests->vaderSentiment) (2020.12.5)\n",
            "Installing collected packages: vaderSentiment\n",
            "Successfully installed vaderSentiment-3.3.2\n"
          ],
          "name": "stdout"
        }
      ]
    },
    {
      "cell_type": "code",
      "metadata": {
        "colab": {
          "base_uri": "https://localhost:8080/"
        },
        "id": "rEiaWWsJwlIi",
        "outputId": "66404adf-71d1-45b4-d65b-96cf5627bda4"
      },
      "source": [
        "from vaderSentiment.vaderSentiment import SentimentIntensityAnalyzer\n",
        "obj=SentimentIntensityAnalyzer()\n",
        "sentence=\"Ram is good\"\n",
        "sentiment_dict=obj.polarity_scores(sentence)\n",
        "print(sentiment_dict)"
      ],
      "execution_count": null,
      "outputs": [
        {
          "output_type": "stream",
          "text": [
            "{'neg': 0.0, 'neu': 0.408, 'pos': 0.592, 'compound': 0.4404}\n"
          ],
          "name": "stdout"
        }
      ]
    },
    {
      "cell_type": "code",
      "metadata": {
        "colab": {
          "base_uri": "https://localhost:8080/",
          "height": 198
        },
        "id": "LeYFoSfpOdNl",
        "outputId": "53eb4c4d-9f49-4140-94ec-e97918221760"
      },
      "source": [
        "from wordcloud import WordCloud\n",
        "from wordcloud import STOPWORDS\n",
        "import matplotlib.pyplot as plt\n",
        "fh=open(\"/content/SA.txt\",\"r\",encoding=\"utf8\")\n",
        "text=fh.read()\n",
        "wordcloud = WordCloud(background_color=\"white\",stopwords = set(STOPWORDS)).generate(text)\n",
        "plt.imshow(wordcloud)\n",
        "plt.axis(\"off\")\n",
        "plt.show()"
      ],
      "execution_count": null,
      "outputs": [
        {
          "output_type": "display_data",
          "data": {
            "image/png": "[encoded data removed]",
            "text/plain": [
              "<Figure size 432x288 with 1 Axes>"
            ]
          },
          "metadata": {
            "tags": [],
            "needs_background": "light"
          }
        }
      ]
    },
    {
      "cell_type": "code",
      "metadata": {
        "colab": {
          "base_uri": "https://localhost:8080/",
          "height": 364
        },
        "id": "-jOsKcZaO0yH",
        "outputId": "62dffe2e-8815-4c93-d96b-af034f2be892"
      },
      "source": [
        "from vaderSentiment.vaderSentiment import SentimentIntensityAnalyzer \n",
        "  \n",
        "# function to print sentiments \n",
        "# of the sentence. \n",
        "import pandas as pd\n",
        "fh=open(\"/content/SA.txt\",\"r\",encoding=\"utf8\")\n",
        "text=fh.read()\n",
        "sid_obj = SentimentIntensityAnalyzer() \n",
        "  \t\n",
        "# polarity_scores method of SentimentIntensityAnalyzer \n",
        "# object gives a sentiment dictionary. \n",
        "# which contains pos, neg, neu, and compound scores. \n",
        "sentiment_dict = sid_obj.polarity_scores(text) \n",
        "print(\"Overall sentiment dictionary is : \", sentiment_dict) \n",
        "print(\"Chat history was rated as \", sentiment_dict['neg']*100, \"% Negative\") \n",
        "print(\"Chat history was rated as \", sentiment_dict['neu']*100, \"% Neutral\") \n",
        "print(\"Chat history was rated as \", sentiment_dict['pos']*100, \"% Positive\")\n",
        "print(sentiment_dict)\n",
        "df=pd.DataFrame(sentiment_dict,columns =['neg', 'neu', 'pos'],index=[1]) \n",
        "df.plot.bar()\n",
        "  \n",
        "print(\"Chat history Overall Rated As\", end = \" \") \n",
        "  \n",
        "    # decide sentiment as positive, negative and neutral \n",
        "if sentiment_dict['compound'] >= 0.05 : \n",
        "    print(\"Positive\") \n",
        "elif sentiment_dict['compound'] <= - 0.05 : \n",
        "    print(\"Negative\") \n",
        "else :\n",
        "    print(\"Neutral\")"
      ],
      "execution_count": null,
      "outputs": [
        {
          "output_type": "stream",
          "text": [
            "Overall sentiment dictionary is :  {'neg': 0.107, 'neu': 0.782, 'pos': 0.111, 'compound': 0.1095}\n",
            "Chat history was rated as  10.7 % Negative\n",
            "Chat history was rated as  78.2 % Neutral\n",
            "Chat history was rated as  11.1 % Positive\n",
            "{'neg': 0.107, 'neu': 0.782, 'pos': 0.111, 'compound': 0.1095}\n",
            "Chat history Overall Rated As Positive\n"
          ],
          "name": "stdout"
        },
        {
          "output_type": "display_data",
          "data": {
            "image/png": "[encoded data removed]",
            "text/plain": [
              "<Figure size 432x288 with 1 Axes>"
            ]
          },
          "metadata": {
            "tags": [],
            "needs_background": "light"
          }
        }
      ]
    },
    {
      "cell_type": "code",
      "metadata": {
        "id": "2FkhJMcSPgJP",
        "colab": {
          "base_uri": "https://localhost:8080/",
          "height": 80
        },
        "outputId": "af523831-74e5-4ff7-9853-0c8d9d4ee7ab"
      },
      "source": [
        "df"
      ],
      "execution_count": null,
      "outputs": [
        {
          "output_type": "execute_result",
          "data": {
            "text/html": [
              "<div>\n",
              "<style scoped>\n",
              "    .dataframe tbody tr th:only-of-type {\n",
              "        vertical-align: middle;\n",
              "    }\n",
              "\n",
              "    .dataframe tbody tr th {\n",
              "        vertical-align: top;\n",
              "    }\n",
              "\n",
              "    .dataframe thead th {\n",
              "        text-align: right;\n",
              "    }\n",
              "</style>\n",
              "<table border=\"1\" class=\"dataframe\">\n",
              "  <thead>\n",
              "    <tr style=\"text-align: right;\">\n",
              "      <th></th>\n",
              "      <th>neg</th>\n",
              "      <th>neu</th>\n",
              "      <th>pos</th>\n",
              "    </tr>\n",
              "  </thead>\n",
              "  <tbody>\n",
              "    <tr>\n",
              "      <th>1</th>\n",
              "      <td>0.107</td>\n",
              "      <td>0.782</td>\n",
              "      <td>0.111</td>\n",
              "    </tr>\n",
              "  </tbody>\n",
              "</table>\n",
              "</div>"
            ],
            "text/plain": [
              "     neg    neu    pos\n",
              "1  0.107  0.782  0.111"
            ]
          },
          "metadata": {
            "tags": []
          },
          "execution_count": 15
        }
      ]
    },
    {
      "cell_type": "code",
      "metadata": {
        "colab": {
          "base_uri": "https://localhost:8080/"
        },
        "id": "qwtCb-ED49S6",
        "outputId": "7f56d667-7a62-473b-8ddb-a68b15817b0a"
      },
      "source": [
        "from textblob import TextBlob\n",
        "sentence=\"Samsung has bumped up RAM on the galaxy M31 compared to the predecessor which should give some leverage while multitasking.\"\n",
        "P=TextBlob(sentence).polarity\n",
        "S=TextBlob(sentence).subjectivity\n",
        "print(P)\n",
        "print(S)"
      ],
      "execution_count": null,
      "outputs": [
        {
          "output_type": "stream",
          "text": [
            "0.0\n",
            "0.0\n"
          ],
          "name": "stdout"
        }
      ]
    },
    {
      "cell_type": "code",
      "metadata": {
        "colab": {
          "base_uri": "https://localhost:8080/"
        },
        "id": "fWW0ivHx6Lip",
        "outputId": "96253849-19f1-4acc-ab1a-8ec2f5763945"
      },
      "source": [
        "from textblob import TextBlob\n",
        "sentence=\"This platform provides universal access to the world's best education,partner with top universities and organizations to offer courses online \"\n",
        "P=TextBlob(sentence).polarity\n",
        "S=TextBlob(sentence).subjectivity\n",
        "print(P)\n",
        "print(S)"
      ],
      "execution_count": null,
      "outputs": [
        {
          "output_type": "stream",
          "text": [
            "0.5\n",
            "0.26666666666666666\n"
          ],
          "name": "stdout"
        }
      ]
    },
    {
      "cell_type": "code",
      "metadata": {
        "colab": {
          "base_uri": "https://localhost:8080/"
        },
        "id": "qNkbS0AR5HAA",
        "outputId": "ffdc18fc-c0fd-4ada-d9e5-7336781a0235"
      },
      "source": [
        "from textblob import TextBlob\n",
        "sentence=\"I hate Monday\"\n",
        "P=TextBlob(sentence).polarity\n",
        "S=TextBlob(sentence).subjectivity\n",
        "print(P)\n",
        "print(S)"
      ],
      "execution_count": null,
      "outputs": [
        {
          "output_type": "stream",
          "text": [
            "-0.8\n",
            "0.9\n"
          ],
          "name": "stdout"
        }
      ]
    },
    {
      "cell_type": "code",
      "metadata": {
        "colab": {
          "base_uri": "https://localhost:8080/"
        },
        "id": "r7Z-wiU-i7U3",
        "outputId": "89183deb-1cd4-45af-881d-b4d41343900d"
      },
      "source": [
        "from textblob import TextBlob\n",
        "sentence=\"The product is okay,I guess\"\n",
        "P=TextBlob(sentence).polarity\n",
        "S=TextBlob(sentence).subjectivity\n",
        "print(P)\n",
        "print(S)\n",
        "\n",
        "#0.0 for neutral\n",
        "#1.0 for positive\n",
        "#-1.0 for negative\n",
        "#Subjectivity\n",
        "# 0.0 is indicating very objective\n",
        "#1.0 is very subjective-feelings,views,belief,opinions,desire,suspicions,speculations "
      ],
      "execution_count": null,
      "outputs": [
        {
          "output_type": "stream",
          "text": [
            "0.0\n",
            "0.0\n"
          ],
          "name": "stdout"
        }
      ]
    },
    {
      "cell_type": "code",
      "metadata": {
        "colab": {
          "base_uri": "https://localhost:8080/"
        },
        "id": "ACbxsW9Yjwy3",
        "outputId": "581704fe-6d4a-4fc8-b2df-91c72a1333b2"
      },
      "source": [
        "from textblob import TextBlob\n",
        "sentence=\"Miss Universe is beautiful\"\n",
        "P=TextBlob(sentence).polarity\n",
        "S=TextBlob(sentence).subjectivity\n",
        "print(P)\n",
        "print(S)"
      ],
      "execution_count": null,
      "outputs": [
        {
          "output_type": "stream",
          "text": [
            "0.85\n",
            "1.0\n"
          ],
          "name": "stdout"
        }
      ]
    },
    {
      "cell_type": "code",
      "metadata": {
        "colab": {
          "base_uri": "https://localhost:8080/"
        },
        "id": "P1SR7zWOj-3T",
        "outputId": "44c2b899-3ffe-4db7-e9bd-4ce3d4bbcced"
      },
      "source": [
        "from textblob import TextBlob\n",
        "sentence=\"I love California\"\n",
        "P=TextBlob(sentence).polarity\n",
        "S=TextBlob(sentence).subjectivity\n",
        "print(P)\n",
        "print(S)"
      ],
      "execution_count": null,
      "outputs": [
        {
          "output_type": "stream",
          "text": [
            "0.5\n",
            "0.6\n"
          ],
          "name": "stdout"
        }
      ]
    },
    {
      "cell_type": "markdown",
      "metadata": {
        "id": "b3E1D5AZ0ZQg"
      },
      "source": [
        "#Handwritten Digit Recognition"
      ]
    },
    {
      "cell_type": "code",
      "metadata": {
        "colab": {
          "base_uri": "https://localhost:8080/"
        },
        "id": "F6ZofwPZ0op5",
        "outputId": "5f3150d3-5eb4-4573-b7b8-5a4875fba9f1"
      },
      "source": [
        "import keras\n",
        "from keras.datasets import mnist\n",
        "from keras.models import Sequential\n",
        "from keras.layers import Dense, Dropout, Flatten\n",
        "from keras.layers import Conv2D, MaxPooling2D\n",
        "from keras import backend as K\n",
        "num_classes = 10\n",
        "# the data, split between train and test sets\n",
        "(x_train, y_train), (x_test, y_test) = mnist.load_data()\n",
        "print(x_train.shape, y_train.shape)\n",
        "\n",
        "x_train = x_train.reshape(x_train.shape[0], 28, 28, 1)\n",
        "x_test = x_test.reshape(x_test.shape[0], 28, 28, 1)\n",
        "input_shape = (28, 28, 1)\n",
        "\n",
        "# convert class vectors to binary class matrices\n",
        "y_train = keras.utils.to_categorical(y_train, num_classes)\n",
        "y_test = keras.utils.to_categorical(y_test, num_classes)\n",
        "x_train = x_train.astype('float32')\n",
        "x_test = x_test.astype('float32')\n",
        "\n",
        "x_train /= 255\n",
        "x_test /= 255\n",
        "print('x_train shape:', x_train.shape)\n",
        "print(x_train.shape[0], 'train samples')\n",
        "print(x_test.shape[0], 'test samples')\n",
        "batch_size = 128\n",
        "\n",
        "epochs = 10\n",
        "model = Sequential()\n",
        "model.add(Conv2D(32, kernel_size=(3, 3),activation='relu',input_shape=input_shape))\n",
        "model.add(Conv2D(64, (3, 3), activation='relu'))\n",
        "model.add(MaxPooling2D(pool_size=(2, 2)))\n",
        "model.add(Dropout(0.25))\n",
        "model.add(Flatten())\n",
        "model.add(Dense(256, activation='relu'))\n",
        "model.add(Dropout(0.5))\n",
        "model.add(Dense(num_classes, activation='softmax'))\n",
        "model.compile(loss=keras.losses.categorical_crossentropy,optimizer=keras.optimizers.Adadelta(),metrics=['accuracy'])\n",
        "\n",
        "hist=model.fit(x_train,y_train,batch_size=batch_size,epochs=epochs,verbose=1,validation_data=(x_test, y_test))\n",
        "print(\"The model has successfully trained\")\n",
        "model.save('mnist.h5')\n",
        "print(\"Saving the model as mnist.h5\")\n",
        "score = model.evaluate(x_test, y_test, verbose=0)\n",
        "print('Test loss:', score[0])\n",
        "print('Test accuracy:', score[1])"
      ],
      "execution_count": null,
      "outputs": [
        {
          "output_type": "stream",
          "text": [
            "Downloading data from https://storage.googleapis.com/tensorflow/tf-keras-datasets/mnist.npz\n",
            "11493376/11490434 [==============================] - 0s 0us/step\n",
            "(60000, 28, 28) (60000,)\n",
            "x_train shape: (60000, 28, 28, 1)\n",
            "60000 train samples\n",
            "10000 test samples\n",
            "Epoch 1/10\n",
            "469/469 [==============================] - 126s 268ms/step - loss: 2.2945 - accuracy: 0.1233 - val_loss: 2.2432 - val_accuracy: 0.3648\n",
            "Epoch 2/10\n",
            "469/469 [==============================] - 125s 268ms/step - loss: 2.2348 - accuracy: 0.2669 - val_loss: 2.1652 - val_accuracy: 0.5498\n",
            "Epoch 3/10\n",
            "469/469 [==============================] - 125s 266ms/step - loss: 2.1578 - accuracy: 0.4018 - val_loss: 2.0563 - val_accuracy: 0.6556\n",
            "Epoch 4/10\n",
            "469/469 [==============================] - 125s 267ms/step - loss: 2.0476 - accuracy: 0.5101 - val_loss: 1.9021 - val_accuracy: 0.7135\n",
            "Epoch 5/10\n",
            "469/469 [==============================] - 125s 266ms/step - loss: 1.8974 - accuracy: 0.5830 - val_loss: 1.6930 - val_accuracy: 0.7511\n",
            "Epoch 6/10\n",
            "469/469 [==============================] - 125s 267ms/step - loss: 1.6978 - accuracy: 0.6271 - val_loss: 1.4386 - val_accuracy: 0.7749\n",
            "Epoch 7/10\n",
            "469/469 [==============================] - 125s 268ms/step - loss: 1.4607 - accuracy: 0.6708 - val_loss: 1.1846 - val_accuracy: 0.7985\n",
            "Epoch 8/10\n",
            "469/469 [==============================] - 125s 266ms/step - loss: 1.2544 - accuracy: 0.6904 - val_loss: 0.9767 - val_accuracy: 0.8141\n",
            "Epoch 9/10\n",
            "469/469 [==============================] - 125s 267ms/step - loss: 1.0809 - accuracy: 0.7172 - val_loss: 0.8254 - val_accuracy: 0.8290\n",
            "Epoch 10/10\n",
            "469/469 [==============================] - 125s 267ms/step - loss: 0.9593 - accuracy: 0.7329 - val_loss: 0.7190 - val_accuracy: 0.8400\n",
            "The model has successfully trained\n",
            "Saving the model as mnist.h5\n",
            "Test loss: 0.7190383672714233\n",
            "Test accuracy: 0.8399999737739563\n"
          ],
          "name": "stdout"
        }
      ]
    },
    {
      "cell_type": "code",
      "metadata": {
        "colab": {
          "base_uri": "https://localhost:8080/",
          "height": 268
        },
        "id": "KylKCw901T8d",
        "outputId": "06955fcd-9512-4d27-9a85-2b8b9ed51dfc"
      },
      "source": [
        "import keras\n",
        "from keras.datasets import mnist\n",
        "import matplotlib.pyplot as plt\n",
        "(X_train,y_train),(X_test,y_test)=mnist.load_data()\n",
        "plt.subplot(221)\n",
        "#plot 4 images as gray scale\n",
        "#cmap is for colormap \n",
        "plt.imshow(X_train[0],cmap=plt.get_cmap('gray'))\n",
        "plt.subplot(222)\n",
        "plt.imshow(X_train[1],cmap=plt.get_cmap('gray'))\n",
        "plt.subplot(223)\n",
        "plt.imshow(X_train[2],cmap=plt.get_cmap('gray'))\n",
        "plt.subplot(224)\n",
        "plt.imshow(X_train[3],cmap=plt.get_cmap('gray'))\n",
        "plt.show()\n"
      ],
      "execution_count": null,
      "outputs": [
        {
          "output_type": "display_data",
          "data": {
            "image/png": "[encoded data removed]",
            "text/plain": [
              "<Figure size 432x288 with 4 Axes>"
            ]
          },
          "metadata": {
            "tags": [],
            "needs_background": "light"
          }
        }
      ]
    },
    {
      "cell_type": "markdown",
      "metadata": {
        "id": "tWrScx-cfosD"
      },
      "source": [
        "Simple PCA"
      ]
    },
    {
      "cell_type": "code",
      "metadata": {
        "id": "dCSqyJETfrcr"
      },
      "source": [
        "#Importing required libraries\n",
        "import numpy as np\n",
        "#Generate a dummy dataset.\n",
        "X = np.random.randint(10,50,100).reshape(20,5) \n",
        "# mean Centering the data  \n",
        "X_meaned = X - np.mean(X , axis = 0)\n",
        "# calculating the covariance matrix of the mean-centered data.\n",
        "cov_mat = np.cov(X_meaned , rowvar = False)\n",
        "#Calculating Eigenvalues and Eigenvectors of the covariance matrix\n",
        "eigen_values , eigen_vectors = np.linalg.eigh(cov_mat)\n",
        "#sort the eigenvalues in descending order\n",
        "sorted_index = np.argsort(eigen_values)[::-1]\n",
        " \n",
        "sorted_eigenvalue = eigen_values[sorted_index]\n",
        "#similarly sort the eigenvectors \n",
        "sorted_eigenvectors = eigen_vectors[:,sorted_index]\n",
        "# select the first n eigenvectors, n is desired dimension\n",
        "# of our final reduced data.\n",
        " \n",
        "n_components = 2 #you can select any number of components.\n",
        "eigenvector_subset = sorted_eigenvectors[:,0:n_components]\n",
        "#Transform the data \n",
        "X_reduced = np.dot(eigenvector_subset.transpose(),X_meaned.transpose()).transpose()\n"
      ],
      "execution_count": null,
      "outputs": []
    },
    {
      "cell_type": "code",
      "metadata": {
        "id": "6zpqdRFfgEn_"
      },
      "source": [
        "import numpy as np\n",
        " \n",
        "def PCA(X , num_components):\n",
        "     \n",
        "    #Step-1\n",
        "    X_meaned = X - np.mean(X , axis = 0)\n",
        "     \n",
        "    #Step-2\n",
        "    cov_mat = np.cov(X_meaned , rowvar = False)\n",
        "     \n",
        "    #Step-3\n",
        "    eigen_values , eigen_vectors = np.linalg.eigh(cov_mat)\n",
        "     \n",
        "    #Step-4\n",
        "    sorted_index = np.argsort(eigen_values)[::-1]\n",
        "    sorted_eigenvalue = eigen_values[sorted_index]\n",
        "    sorted_eigenvectors = eigen_vectors[:,sorted_index]\n",
        "     \n",
        "    #Step-5\n",
        "    eigenvector_subset = sorted_eigenvectors[:,0:num_components]\n",
        "     \n",
        "    #Step-6\n",
        "    X_reduced = np.dot(eigenvector_subset.transpose() , X_meaned.transpose() ).transpose()\n",
        "     \n",
        "    return X_reduced"
      ],
      "execution_count": null,
      "outputs": []
    },
    {
      "cell_type": "code",
      "metadata": {
        "id": "X5JMPQjMgLYL"
      },
      "source": [
        "import pandas as pd\n",
        " \n",
        "#Get the IRIS dataset\n",
        "url = \"https://archive.ics.uci.edu/ml/machine-learning-databases/iris/iris.data\"\n",
        "data = pd.read_csv(url, names=['sepal length','sepal width','petal length','petal width','target'])\n",
        " \n",
        "#prepare the data\n",
        "x = data.iloc[:,0:4]\n",
        " \n",
        "#prepare the target\n",
        "target = data.iloc[:,4]\n",
        " \n",
        "#Applying it to PCA function\n",
        "mat_reduced = PCA(x , 2)\n",
        " \n",
        "#Creating a Pandas DataFrame of reduced Dataset\n",
        "principal_df = pd.DataFrame(mat_reduced , columns = ['PC1','PC2'])\n",
        " \n",
        "#Concat it with target variable to create a complete Dataset\n",
        "principal_df = pd.concat([principal_df , pd.DataFrame(target)] , axis = 1)"
      ],
      "execution_count": null,
      "outputs": []
    },
    {
      "cell_type": "code",
      "metadata": {
        "colab": {
          "base_uri": "https://localhost:8080/",
          "height": 409
        },
        "id": "O9rvPzNXgOwm",
        "outputId": "cad5d263-7fe9-4d44-ce2d-d8edde5e8c70"
      },
      "source": [
        "import seaborn as sb\n",
        "import matplotlib.pyplot as plt\n",
        " \n",
        "plt.figure(figsize = (6,6))\n",
        "sb.scatterplot(data = principal_df , x = 'PC1',y = 'PC2' , hue = 'target' , s = 60 , palette= 'icefire')"
      ],
      "execution_count": null,
      "outputs": [
        {
          "output_type": "execute_result",
          "data": {
            "text/plain": [
              "<matplotlib.axes._subplots.AxesSubplot at 0x7fed4aa6dd90>"
            ]
          },
          "metadata": {
            "tags": []
          },
          "execution_count": 7
        },
        {
          "output_type": "display_data",
          "data": {
            "image/png": "[encoded data removed]",
            "text/plain": [
              "<Figure size 432x432 with 1 Axes>"
            ]
          },
          "metadata": {
            "tags": [],
            "needs_background": "light"
          }
        }
      ]
    }
  ]
}